{
 "cells": [
  {
   "cell_type": "markdown",
   "metadata": {},
   "source": [
    "### Import"
   ]
  },
  {
   "cell_type": "code",
   "execution_count": 40,
   "metadata": {},
   "outputs": [],
   "source": [
    "import pandas as pd\n",
    "from tqdm import tqdm\n",
    "from itertools import combinations\n",
    "from sklearn.metrics import mean_squared_error, r2_score"
   ]
  },
  {
   "cell_type": "code",
   "execution_count": 41,
   "metadata": {},
   "outputs": [
    {
     "data": {
      "text/plain": [
       "['oversampled_normalized',\n",
       " 'undersampled_normalized',\n",
       " 'undersampled',\n",
       " 'oversampled',\n",
       " 'normalClass',\n",
       " 'normalClass_normalized']"
      ]
     },
     "execution_count": 41,
     "metadata": {},
     "output_type": "execute_result"
    }
   ],
   "source": [
    "from read import read_datasets, get_subsets\n",
    "datasets = read_datasets()\n",
    "list(datasets.keys())"
   ]
  },
  {
   "cell_type": "markdown",
   "metadata": {},
   "source": [
    "### Linear Regression"
   ]
  },
  {
   "cell_type": "markdown",
   "metadata": {},
   "source": [
    "#### Define functions for running linear regression tests"
   ]
  },
  {
   "cell_type": "code",
   "execution_count": 42,
   "metadata": {},
   "outputs": [],
   "source": [
    "from sklearn.linear_model import LinearRegression\n",
    "def run_linearRegression(dataset_name, subset = []):\n",
    "    assert dataset_name in datasets\n",
    "\n",
    "    X_train, X_test, y_train, y_test = get_subsets(datasets[dataset_name])\n",
    "    \n",
    "    if subset:\n",
    "        assert any(c in X_train.columns for c in subset)\n",
    "        X_train = X_train[[c for c in subset if c in X_train.columns]]\n",
    "        X_test = X_test[[c for c in subset if c in X_test.columns]]\n",
    "    \n",
    "    model = LinearRegression()\n",
    "    model.fit(X_train, y_train)\n",
    "\n",
    "    coefficients = pd.DataFrame({\n",
    "        \"variable\":[\"INTERCEPT\"] + list(X_train.columns),\n",
    "        \"coefficient\":[model.intercept_] + list(model.coef_)\n",
    "    })\n",
    "\n",
    "\n",
    "    y_pred = model.predict(X_test)\n",
    "\n",
    "    mse = mean_squared_error(y_test, y_pred)\n",
    "    r2 = r2_score(y_test, y_pred)\n",
    "\n",
    "    return coefficients, y_test, y_pred, mse, r2"
   ]
  },
  {
   "cell_type": "code",
   "execution_count": 54,
   "metadata": {},
   "outputs": [],
   "source": [
    "def test_diff_datasets(subset = []):\n",
    "    results = {\n",
    "        \"dataName\":[name for name in datasets],\n",
    "        \"featureSubset\":[subset for name in datasets],\n",
    "        \"mse\":[],\n",
    "        \"r2\":[]\n",
    "    }\n",
    "    for name in datasets:\n",
    "        _, _, _, mse, r2 = run_linearRegression(name, subset)\n",
    "        results[\"mse\"].append(mse)\n",
    "        results[\"r2\"].append(r2)\n",
    "    \n",
    "    return pd.DataFrame(results).sort_values(by = \"r2\").reset_index(drop = True)"
   ]
  },
  {
   "cell_type": "code",
   "execution_count": null,
   "metadata": {},
   "outputs": [],
   "source": [
    "def getCombos(dataName, subset = []):\n",
    "    X_train, _, _, _ = get_subsets(datasets[dataName])\n",
    "\n",
    "    cols = list(X_train.columns)\n",
    "    if subset:\n",
    "        cols = [c for c in cols if c in subset]\n",
    "    assert cols\n",
    "\n",
    "    combos = []\n",
    "    for i in range(1, len(cols) + 1):\n",
    "        combos.extend(combinations(cols, i))\n",
    "    \n",
    "    return combos\n"
   ]
  },
  {
   "cell_type": "markdown",
   "metadata": {},
   "source": [
    "#### Test All Feature Subsets"
   ]
  },
  {
   "cell_type": "code",
   "execution_count": 51,
   "metadata": {},
   "outputs": [
    {
     "name": "stderr",
     "output_type": "stream",
     "text": [
      "Subset Testing: 100%|██████████| 2047/2047 [01:25<00:00, 23.91it/s]\n"
     ]
    }
   ],
   "source": [
    "\n",
    "\n",
    "\n",
    "cols = list(X_train.columns)\n",
    "combos = []\n",
    "for i in range(1, len(cols) + 1):\n",
    "    combos.extend(combinations(cols, i))\n",
    "\n",
    "dfOut = pd.DataFrame\n",
    "for combo in tqdm(combos, desc = \"Subset Testing\"):\n",
    "    result = test_diff_datasets(combo)\n",
    "    if dfOut.empty:\n",
    "        dfOut = result\n",
    "    else:\n",
    "        dfOut = pd.concat([dfOut, result])"
   ]
  },
  {
   "cell_type": "code",
   "execution_count": 53,
   "metadata": {},
   "outputs": [
    {
     "data": {
      "text/html": [
       "<div>\n",
       "<style scoped>\n",
       "    .dataframe tbody tr th:only-of-type {\n",
       "        vertical-align: middle;\n",
       "    }\n",
       "\n",
       "    .dataframe tbody tr th {\n",
       "        vertical-align: top;\n",
       "    }\n",
       "\n",
       "    .dataframe thead th {\n",
       "        text-align: right;\n",
       "    }\n",
       "</style>\n",
       "<table border=\"1\" class=\"dataframe\">\n",
       "  <thead>\n",
       "    <tr style=\"text-align: right;\">\n",
       "      <th></th>\n",
       "      <th>dataName</th>\n",
       "      <th>featureSubset</th>\n",
       "      <th>mse</th>\n",
       "      <th>r2</th>\n",
       "    </tr>\n",
       "  </thead>\n",
       "  <tbody>\n",
       "    <tr>\n",
       "      <th>0</th>\n",
       "      <td>normalClass</td>\n",
       "      <td>(fixed acidity, volatile acidity, residual sug...</td>\n",
       "      <td>0.375114</td>\n",
       "      <td>0.340628</td>\n",
       "    </tr>\n",
       "    <tr>\n",
       "      <th>1</th>\n",
       "      <td>normalClass_normalized</td>\n",
       "      <td>(fixed acidity, volatile acidity, residual sug...</td>\n",
       "      <td>0.379095</td>\n",
       "      <td>0.333631</td>\n",
       "    </tr>\n",
       "    <tr>\n",
       "      <th>2</th>\n",
       "      <td>oversampled</td>\n",
       "      <td>(fixed acidity, volatile acidity, citric acid,...</td>\n",
       "      <td>0.948022</td>\n",
       "      <td>0.670136</td>\n",
       "    </tr>\n",
       "    <tr>\n",
       "      <th>3</th>\n",
       "      <td>oversampled_normalized</td>\n",
       "      <td>(fixed acidity, volatile acidity, citric acid,...</td>\n",
       "      <td>0.955661</td>\n",
       "      <td>0.667478</td>\n",
       "    </tr>\n",
       "    <tr>\n",
       "      <th>4</th>\n",
       "      <td>undersampled</td>\n",
       "      <td>(fixed acidity, volatile acidity, residual sug...</td>\n",
       "      <td>0.386782</td>\n",
       "      <td>0.791398</td>\n",
       "    </tr>\n",
       "    <tr>\n",
       "      <th>5</th>\n",
       "      <td>undersampled_normalized</td>\n",
       "      <td>(volatile acidity, residual sugar, free sulfur...</td>\n",
       "      <td>1.310850</td>\n",
       "      <td>0.293025</td>\n",
       "    </tr>\n",
       "  </tbody>\n",
       "</table>\n",
       "</div>"
      ],
      "text/plain": [
       "                  dataName                                      featureSubset  \\\n",
       "0              normalClass  (fixed acidity, volatile acidity, residual sug...   \n",
       "1   normalClass_normalized  (fixed acidity, volatile acidity, residual sug...   \n",
       "2              oversampled  (fixed acidity, volatile acidity, citric acid,...   \n",
       "3   oversampled_normalized  (fixed acidity, volatile acidity, citric acid,...   \n",
       "4             undersampled  (fixed acidity, volatile acidity, residual sug...   \n",
       "5  undersampled_normalized  (volatile acidity, residual sugar, free sulfur...   \n",
       "\n",
       "        mse        r2  \n",
       "0  0.375114  0.340628  \n",
       "1  0.379095  0.333631  \n",
       "2  0.948022  0.670136  \n",
       "3  0.955661  0.667478  \n",
       "4  0.386782  0.791398  \n",
       "5  1.310850  0.293025  "
      ]
     },
     "execution_count": 53,
     "metadata": {},
     "output_type": "execute_result"
    }
   ],
   "source": [
    "bestPerDataName = dfOut.groupby('dataName', as_index=False).apply(lambda x: x.nlargest(1, columns='r2')).reset_index(drop = True)\n",
    "bestPerDataName"
   ]
  },
  {
   "cell_type": "markdown",
   "metadata": {},
   "source": [
    "#### Manually Remove Collinearity"
   ]
  },
  {
   "cell_type": "code",
   "execution_count": null,
   "metadata": {},
   "outputs": [],
   "source": [
    "dropCols = [\"free sulfure dioxide\", \"ph\", \"sulfur\", \"citric acid\", \"volatile acidity\"]\n",
    "cols = "
   ]
  },
  {
   "cell_type": "markdown",
   "metadata": {},
   "source": [
    "### Non-Linear Models"
   ]
  },
  {
   "cell_type": "code",
   "execution_count": null,
   "metadata": {},
   "outputs": [],
   "source": []
  },
  {
   "cell_type": "markdown",
   "metadata": {},
   "source": [
    "### ANN Pseudo-Regression"
   ]
  }
 ],
 "metadata": {
  "kernelspec": {
   "display_name": "Python 3",
   "language": "python",
   "name": "python3"
  },
  "language_info": {
   "codemirror_mode": {
    "name": "ipython",
    "version": 3
   },
   "file_extension": ".py",
   "mimetype": "text/x-python",
   "name": "python",
   "nbconvert_exporter": "python",
   "pygments_lexer": "ipython3",
   "version": "3.10.13"
  }
 },
 "nbformat": 4,
 "nbformat_minor": 2
}
