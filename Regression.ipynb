{
 "cells": [
  {
   "cell_type": "markdown",
   "metadata": {},
   "source": [
    "### Import"
   ]
  },
  {
   "cell_type": "code",
   "execution_count": 55,
   "metadata": {
    "vscode": {
     "languageId": "r"
    }
   },
   "outputs": [],
   "source": [
    "import pandas as pd\n",
    "from tqdm import tqdm\n",
    "from itertools import combinations\n",
    "from sklearn.metrics import mean_squared_error, r2_score"
   ]
  },
  {
   "cell_type": "code",
   "execution_count": 56,
   "metadata": {
    "vscode": {
     "languageId": "r"
    }
   },
   "outputs": [
    {
     "data": {
      "text/plain": [
       "['oversampled_normalized',\n",
       " 'undersampled_normalized',\n",
       " 'undersampled',\n",
       " 'oversampled',\n",
       " 'normalClass',\n",
       " 'normalClass_normalized']"
      ]
     },
     "execution_count": 56,
     "metadata": {},
     "output_type": "execute_result"
    }
   ],
   "source": [
    "from read import read_datasets, get_subsets\n",
    "datasets = read_datasets()\n",
    "list(datasets.keys())"
   ]
  },
  {
   "cell_type": "markdown",
   "metadata": {},
   "source": [
    "### Linear Regression"
   ]
  },
  {
   "cell_type": "markdown",
   "metadata": {},
   "source": [
    "#### Define functions for running linear regression tests"
   ]
  },
  {
   "cell_type": "code",
   "execution_count": 57,
   "metadata": {
    "vscode": {
     "languageId": "r"
    }
   },
   "outputs": [],
   "source": [
    "from sklearn.linear_model import LinearRegression\n",
    "def run_linearRegression(dataset_name, subset = []):\n",
    "    assert dataset_name in datasets\n",
    "\n",
    "    X_train, X_test, y_train, y_test = get_subsets(datasets[dataset_name])\n",
    "    \n",
    "    if subset:\n",
    "        assert any(c in X_train.columns for c in subset)\n",
    "        X_train = X_train[[c for c in subset if c in X_train.columns]]\n",
    "        X_test = X_test[[c for c in subset if c in X_test.columns]]\n",
    "    \n",
    "    model = LinearRegression()\n",
    "    model.fit(X_train, y_train)\n",
    "\n",
    "    coefficients = pd.DataFrame({\n",
    "        \"variable\":[\"INTERCEPT\"] + list(X_train.columns),\n",
    "        \"coefficient\":[model.intercept_] + list(model.coef_)\n",
    "    })\n",
    "\n",
    "\n",
    "    y_pred = model.predict(X_test)\n",
    "\n",
    "    mse = mean_squared_error(y_test, y_pred)\n",
    "    r2 = r2_score(y_test, y_pred)\n",
    "\n",
    "    return coefficients, y_test, y_pred, mse, r2"
   ]
  },
  {
   "cell_type": "code",
   "execution_count": 66,
   "metadata": {
    "vscode": {
     "languageId": "r"
    }
   },
   "outputs": [],
   "source": [
    "def test_diff_datasets(subset = []):\n",
    "    results = {\n",
    "        \"dataName\":[name for name in datasets],\n",
    "        \"featureSubset\":[subset for name in datasets],\n",
    "        \"mse\":[],\n",
    "        \"r2\":[]\n",
    "    }\n",
    "    for name in datasets:\n",
    "        _, _, _, mse, r2 = run_linearRegression(name, subset)\n",
    "        results[\"mse\"].append(mse)\n",
    "        results[\"r2\"].append(r2)\n",
    "    \n",
    "    return pd.DataFrame(results).sort_values(by = \"r2\").reset_index(drop = True)"
   ]
  },
  {
   "cell_type": "code",
   "execution_count": 69,
   "metadata": {
    "vscode": {
     "languageId": "r"
    }
   },
   "outputs": [],
   "source": [
    "def getCombos(dataName, drop = []):\n",
    "    X_train, _, _, _ = get_subsets(datasets[dataName])\n",
    "\n",
    "    cols = list(X_train.columns)\n",
    "    if drop:\n",
    "        cols = [c for c in cols if c not in drop]\n",
    "    assert cols\n",
    "\n",
    "    combos = []\n",
    "    for i in range(1, len(cols) + 1):\n",
    "        combos.extend(combinations(cols, i))\n",
    "    \n",
    "    return combos"
   ]
  },
  {
   "cell_type": "markdown",
   "metadata": {},
   "source": [
    "#### Test All Feature Subsets"
   ]
  },
  {
   "cell_type": "code",
   "execution_count": 63,
   "metadata": {
    "vscode": {
     "languageId": "r"
    }
   },
   "outputs": [
    {
     "name": "stderr",
     "output_type": "stream",
     "text": [
      "Subset Testing: 100%|██████████| 2047/2047 [02:19<00:00, 14.71it/s]\n"
     ]
    }
   ],
   "source": [
    "dfOut = pd.DataFrame\n",
    "for combo in tqdm(getCombos(\"normalClass\"), desc = \"Subset Testing\"):\n",
    "    result = test_diff_datasets(combo)\n",
    "    if dfOut.empty:\n",
    "        dfOut = result\n",
    "    else:\n",
    "        dfOut = pd.concat([dfOut, result])"
   ]
  },
  {
   "cell_type": "code",
   "execution_count": 64,
   "metadata": {
    "vscode": {
     "languageId": "r"
    }
   },
   "outputs": [
    {
     "data": {
      "text/html": [
       "<div>\n",
       "<style scoped>\n",
       "    .dataframe tbody tr th:only-of-type {\n",
       "        vertical-align: middle;\n",
       "    }\n",
       "\n",
       "    .dataframe tbody tr th {\n",
       "        vertical-align: top;\n",
       "    }\n",
       "\n",
       "    .dataframe thead th {\n",
       "        text-align: right;\n",
       "    }\n",
       "</style>\n",
       "<table border=\"1\" class=\"dataframe\">\n",
       "  <thead>\n",
       "    <tr style=\"text-align: right;\">\n",
       "      <th></th>\n",
       "      <th>dataName</th>\n",
       "      <th>featureSubset</th>\n",
       "      <th>mse</th>\n",
       "      <th>r2</th>\n",
       "    </tr>\n",
       "  </thead>\n",
       "  <tbody>\n",
       "    <tr>\n",
       "      <th>0</th>\n",
       "      <td>normalClass</td>\n",
       "      <td>(fixed acidity, volatile acidity, residual sug...</td>\n",
       "      <td>0.375114</td>\n",
       "      <td>0.340628</td>\n",
       "    </tr>\n",
       "    <tr>\n",
       "      <th>1</th>\n",
       "      <td>normalClass_normalized</td>\n",
       "      <td>(fixed acidity, volatile acidity, residual sug...</td>\n",
       "      <td>0.379095</td>\n",
       "      <td>0.333631</td>\n",
       "    </tr>\n",
       "    <tr>\n",
       "      <th>2</th>\n",
       "      <td>oversampled</td>\n",
       "      <td>(fixed acidity, volatile acidity, citric acid,...</td>\n",
       "      <td>0.948022</td>\n",
       "      <td>0.670136</td>\n",
       "    </tr>\n",
       "    <tr>\n",
       "      <th>3</th>\n",
       "      <td>oversampled_normalized</td>\n",
       "      <td>(fixed acidity, volatile acidity, citric acid,...</td>\n",
       "      <td>0.955661</td>\n",
       "      <td>0.667478</td>\n",
       "    </tr>\n",
       "    <tr>\n",
       "      <th>4</th>\n",
       "      <td>undersampled</td>\n",
       "      <td>(fixed acidity, volatile acidity, residual sug...</td>\n",
       "      <td>0.386782</td>\n",
       "      <td>0.791398</td>\n",
       "    </tr>\n",
       "    <tr>\n",
       "      <th>5</th>\n",
       "      <td>undersampled_normalized</td>\n",
       "      <td>(volatile acidity, residual sugar, free sulfur...</td>\n",
       "      <td>1.310850</td>\n",
       "      <td>0.293025</td>\n",
       "    </tr>\n",
       "  </tbody>\n",
       "</table>\n",
       "</div>"
      ],
      "text/plain": [
       "                  dataName                                      featureSubset  \\\n",
       "0              normalClass  (fixed acidity, volatile acidity, residual sug...   \n",
       "1   normalClass_normalized  (fixed acidity, volatile acidity, residual sug...   \n",
       "2              oversampled  (fixed acidity, volatile acidity, citric acid,...   \n",
       "3   oversampled_normalized  (fixed acidity, volatile acidity, citric acid,...   \n",
       "4             undersampled  (fixed acidity, volatile acidity, residual sug...   \n",
       "5  undersampled_normalized  (volatile acidity, residual sugar, free sulfur...   \n",
       "\n",
       "        mse        r2  \n",
       "0  0.375114  0.340628  \n",
       "1  0.379095  0.333631  \n",
       "2  0.948022  0.670136  \n",
       "3  0.955661  0.667478  \n",
       "4  0.386782  0.791398  \n",
       "5  1.310850  0.293025  "
      ]
     },
     "execution_count": 64,
     "metadata": {},
     "output_type": "execute_result"
    }
   ],
   "source": [
    "bestPerDataName = dfOut.groupby('dataName', as_index=False).apply(lambda x: x.nlargest(1, columns='r2')).reset_index(drop = True)\n",
    "bestPerDataName"
   ]
  },
  {
   "cell_type": "markdown",
   "metadata": {},
   "source": [
    "#### Manually Remove Collinearity"
   ]
  },
  {
   "cell_type": "code",
   "execution_count": 72,
   "metadata": {
    "vscode": {
     "languageId": "r"
    }
   },
   "outputs": [
    {
     "name": "stderr",
     "output_type": "stream",
     "text": [
      "Subset Testing: 100%|██████████| 511/511 [00:35<00:00, 14.60it/s]\n"
     ]
    }
   ],
   "source": [
    "dropCols = [\"free sulfur dioxide\", \"pH\", \"sulfur\", \"citric acid\", \"volatile acidity\"]\n",
    "\n",
    "dfOut_subset = pd.DataFrame\n",
    "for combo in tqdm(getCombos(\"normalClass\", dropCols), desc = \"Subset Testing\"):\n",
    "    result = test_diff_datasets(combo)\n",
    "    if dfOut_subset.empty:\n",
    "        dfOut_subset = result\n",
    "    else:\n",
    "        dfOut_subset = pd.concat([dfOut_subset, result])"
   ]
  },
  {
   "cell_type": "code",
   "execution_count": 73,
   "metadata": {
    "vscode": {
     "languageId": "r"
    }
   },
   "outputs": [
    {
     "data": {
      "text/html": [
       "<div>\n",
       "<style scoped>\n",
       "    .dataframe tbody tr th:only-of-type {\n",
       "        vertical-align: middle;\n",
       "    }\n",
       "\n",
       "    .dataframe tbody tr th {\n",
       "        vertical-align: top;\n",
       "    }\n",
       "\n",
       "    .dataframe thead th {\n",
       "        text-align: right;\n",
       "    }\n",
       "</style>\n",
       "<table border=\"1\" class=\"dataframe\">\n",
       "  <thead>\n",
       "    <tr style=\"text-align: right;\">\n",
       "      <th></th>\n",
       "      <th>dataName</th>\n",
       "      <th>featureSubset</th>\n",
       "      <th>mse</th>\n",
       "      <th>r2</th>\n",
       "    </tr>\n",
       "  </thead>\n",
       "  <tbody>\n",
       "    <tr>\n",
       "      <th>0</th>\n",
       "      <td>normalClass</td>\n",
       "      <td>(fixed acidity, residual sugar, chlorides, tot...</td>\n",
       "      <td>0.400304</td>\n",
       "      <td>0.296351</td>\n",
       "    </tr>\n",
       "    <tr>\n",
       "      <th>1</th>\n",
       "      <td>normalClass_normalized</td>\n",
       "      <td>(fixed acidity, residual sugar, chlorides, tot...</td>\n",
       "      <td>0.407050</td>\n",
       "      <td>0.284492</td>\n",
       "    </tr>\n",
       "    <tr>\n",
       "      <th>2</th>\n",
       "      <td>oversampled</td>\n",
       "      <td>(fixed acidity, residual sugar, chlorides, fre...</td>\n",
       "      <td>1.095498</td>\n",
       "      <td>0.618822</td>\n",
       "    </tr>\n",
       "    <tr>\n",
       "      <th>3</th>\n",
       "      <td>oversampled_normalized</td>\n",
       "      <td>(fixed acidity, residual sugar, chlorides, den...</td>\n",
       "      <td>1.106794</td>\n",
       "      <td>0.614892</td>\n",
       "    </tr>\n",
       "    <tr>\n",
       "      <th>4</th>\n",
       "      <td>undersampled</td>\n",
       "      <td>(fixed acidity, chlorides, free sulfur dioxide...</td>\n",
       "      <td>1.013596</td>\n",
       "      <td>0.453342</td>\n",
       "    </tr>\n",
       "    <tr>\n",
       "      <th>5</th>\n",
       "      <td>undersampled_normalized</td>\n",
       "      <td>(fixed acidity, chlorides, free sulfur dioxide...</td>\n",
       "      <td>1.621071</td>\n",
       "      <td>0.125715</td>\n",
       "    </tr>\n",
       "  </tbody>\n",
       "</table>\n",
       "</div>"
      ],
      "text/plain": [
       "                  dataName                                      featureSubset  \\\n",
       "0              normalClass  (fixed acidity, residual sugar, chlorides, tot...   \n",
       "1   normalClass_normalized  (fixed acidity, residual sugar, chlorides, tot...   \n",
       "2              oversampled  (fixed acidity, residual sugar, chlorides, fre...   \n",
       "3   oversampled_normalized  (fixed acidity, residual sugar, chlorides, den...   \n",
       "4             undersampled  (fixed acidity, chlorides, free sulfur dioxide...   \n",
       "5  undersampled_normalized  (fixed acidity, chlorides, free sulfur dioxide...   \n",
       "\n",
       "        mse        r2  \n",
       "0  0.400304  0.296351  \n",
       "1  0.407050  0.284492  \n",
       "2  1.095498  0.618822  \n",
       "3  1.106794  0.614892  \n",
       "4  1.013596  0.453342  \n",
       "5  1.621071  0.125715  "
      ]
     },
     "execution_count": 73,
     "metadata": {},
     "output_type": "execute_result"
    }
   ],
   "source": [
    "bestPerDataName_subset = dfOut_subset.groupby('dataName', as_index=False).apply(lambda x: x.nlargest(1, columns='r2')).reset_index(drop = True)\n",
    "bestPerDataName_subset"
   ]
  },
  {
   "cell_type": "markdown",
   "metadata": {},
   "source": [
    "### Read in R Data"
   ]
  },
  {
   "cell_type": "code",
   "execution_count": 1,
   "metadata": {
    "vscode": {
     "languageId": "r"
    }
   },
   "outputs": [
    {
     "name": "stderr",
     "output_type": "stream",
     "text": [
      "Warning message:\n",
      "\"package 'gam' was built under R version 4.1.2\"\n",
      "Loading required package: splines\n",
      "\n",
      "Loading required package: foreach\n",
      "\n",
      "Warning message:\n",
      "\"package 'foreach' was built under R version 4.1.2\"\n",
      "Loaded gam 1.22-2\n",
      "\n",
      "\n",
      "Warning message:\n",
      "\"package 'tidyverse' was built under R version 4.1.2\"\n",
      "-- \u001b[1mAttaching packages\u001b[22m --------------------------------------- tidyverse 1.3.2 --\n",
      "\u001b[32mv\u001b[39m \u001b[34mggplot2\u001b[39m 3.4.0     \u001b[32mv\u001b[39m \u001b[34mpurrr  \u001b[39m 1.0.1\n",
      "\u001b[32mv\u001b[39m \u001b[34mtibble \u001b[39m 3.2.1     \u001b[32mv\u001b[39m \u001b[34mdplyr  \u001b[39m 1.1.1\n",
      "\u001b[32mv\u001b[39m \u001b[34mtidyr  \u001b[39m 1.2.0     \u001b[32mv\u001b[39m \u001b[34mstringr\u001b[39m 1.5.0\n",
      "\u001b[32mv\u001b[39m \u001b[34mreadr  \u001b[39m 2.1.2     \u001b[32mv\u001b[39m \u001b[34mforcats\u001b[39m 0.5.2\n",
      "Warning message:\n",
      "\"package 'ggplot2' was built under R version 4.1.2\"\n",
      "Warning message:\n",
      "\"package 'tibble' was built under R version 4.1.2\"\n",
      "Warning message:\n",
      "\"package 'tidyr' was built under R version 4.1.2\"\n",
      "Warning message:\n",
      "\"package 'readr' was built under R version 4.1.2\"\n",
      "Warning message:\n",
      "\"package 'purrr' was built under R version 4.1.2\"\n",
      "Warning message:\n",
      "\"package 'dplyr' was built under R version 4.1.2\"\n",
      "Warning message:\n",
      "\"package 'stringr' was built under R version 4.1.2\"\n",
      "Warning message:\n",
      "\"package 'forcats' was built under R version 4.1.2\"\n",
      "-- \u001b[1mConflicts\u001b[22m ------------------------------------------ tidyverse_conflicts() --\n",
      "\u001b[31mx\u001b[39m \u001b[34mpurrr\u001b[39m::\u001b[32maccumulate()\u001b[39m masks \u001b[34mforeach\u001b[39m::accumulate()\n",
      "\u001b[31mx\u001b[39m \u001b[34mdplyr\u001b[39m::\u001b[32mfilter()\u001b[39m     masks \u001b[34mstats\u001b[39m::filter()\n",
      "\u001b[31mx\u001b[39m \u001b[34mdplyr\u001b[39m::\u001b[32mlag()\u001b[39m        masks \u001b[34mstats\u001b[39m::lag()\n",
      "\u001b[31mx\u001b[39m \u001b[34mpurrr\u001b[39m::\u001b[32mwhen()\u001b[39m       masks \u001b[34mforeach\u001b[39m::when()\n",
      "Warning message:\n",
      "\"package 'caret' was built under R version 4.1.2\"\n",
      "Loading required package: lattice\n",
      "\n",
      "\n",
      "Attaching package: 'caret'\n",
      "\n",
      "\n",
      "The following object is masked from 'package:purrr':\n",
      "\n",
      "    lift\n",
      "\n",
      "\n"
     ]
    }
   ],
   "source": [
    "library(ISLR)\n",
    "library(gam)\n",
    "library(splines)\n",
    "library(tidyverse)\n",
    "library(caret)\n",
    "library(dplyr)\n",
    "library(nnet)"
   ]
  },
  {
   "cell_type": "code",
   "execution_count": 2,
   "metadata": {
    "vscode": {
     "languageId": "r"
    }
   },
   "outputs": [],
   "source": [
    "files <- c()\n",
    "dfs <- list()\n",
    "for(file in list.files(\"data/\")){\n",
    "    if(file != \"winequality.csv\"){\n",
    "        files <- append(files, strsplit(file, \"\\\\.\")[[1]][1])\n",
    "        dfs <- append(dfs, list(read.csv(paste(\"data/\",file,sep = \"\"), header = T)))\n",
    "    }\n",
    "}"
   ]
  },
  {
   "cell_type": "code",
   "execution_count": 3,
   "metadata": {
    "vscode": {
     "languageId": "r"
    }
   },
   "outputs": [],
   "source": [
    "getSplit <- function(df, train_or_test){\n",
    "    retDf <- subset(df, train_test == train_or_test)\n",
    "    retDf$train_test <- NULL\n",
    "    return (retDf)\n",
    "}\n",
    "\n",
    "train_dfs <- list()\n",
    "test_dfs <- list()\n",
    "for(df in dfs){\n",
    "    train_dfs <- append(train_dfs, list(getSplit(df, \"train\")))\n",
    "    test_dfs <- append(test_dfs, list(getSplit(df, \"test\")))\n",
    "}"
   ]
  },
  {
   "cell_type": "markdown",
   "metadata": {},
   "source": [
    "### GAM"
   ]
  },
  {
   "cell_type": "markdown",
   "metadata": {},
   "source": [
    "#### Define functions to be used for the model testing"
   ]
  },
  {
   "cell_type": "code",
   "execution_count": 5,
   "metadata": {
    "vscode": {
     "languageId": "r"
    }
   },
   "outputs": [],
   "source": [
    "runModel <- function(train, test){\n",
    "  predictors <- names(train)[!names(train) == \"quality\"]\n",
    "  model <- gam(as.formula(paste(\"quality ~ \",paste(\"s(\", predictors, \")\", collapse = \"+\"))),\n",
    "               data = train, select = T)\n",
    "  preds <- model %>% predict(test)\n",
    "  rmse <- RMSE(preds, test$quality)\n",
    "  r2 <- R2(preds, test$quality)\n",
    "\n",
    "  return(c(rmse, r2))\n",
    "}\n",
    "\n",
    "runOnAllData <- function(subset_cols){\n",
    "  resultFiles <- c()\n",
    "  rmses <- c()\n",
    "  r2s <- c()\n",
    "  feats <- c()\n",
    "\n",
    "  for(i in 1:length(files)){\n",
    "\n",
    "    rmse_r2 <- runModel(train_dfs[[i]][subset_cols], test_dfs[[i]][subset_cols])\n",
    "    \n",
    "    rmse <- rmse_r2[1]\n",
    "    r2 <- rmse_r2[2]\n",
    "\n",
    "    resultFiles <- append(resultFiles, files[i])\n",
    "    rmses <- append(rmses, rmse)\n",
    "    r2s <- append(r2s, r2)\n",
    "    feats <- append(feats, paste(subset_cols[-length(subset_cols)], collapse = \"_\"))\n",
    "  }\n",
    "  fullModelResults <- data.frame(name = resultFiles, features = feats,\n",
    "                                 rmse = rmses, r2 = r2s)\n",
    "  return(fullModelResults)\n",
    "}\n",
    "\n",
    "getCombos <- function(drop_cols = c()){\n",
    "  allCombos <- list()\n",
    "\n",
    "  allCols <- names(train_dfs[[1]])\n",
    "  allCols <- allCols[!allCols %in% drop_cols]\n",
    "  \n",
    "\n",
    "  predCols <- allCols[-length(allCols)]\n",
    "\n",
    "  for(size in 1:length(predCols)){\n",
    "    combos <- combn(predCols, size)\n",
    "    for(j in 1:ncol(combos)){\n",
    "      combo <- list()\n",
    "      for(i in 1:nrow(combos)){\n",
    "        combo <- append(combo, combos[i,j])\n",
    "      }\n",
    "      allCombos <- append(allCombos, list(combo))\n",
    "    }\n",
    "  }\n",
    "  return(allCombos)\n",
    "}\n",
    "\n",
    "drop_cols <- c(\"free.sulfur.dioxide\", \"pH\", \"sulfur\", \"citric.acid\", \"volatile.acidity\")\n",
    "combos <- getCombos(drop_cols)"
   ]
  },
  {
   "cell_type": "markdown",
   "metadata": {},
   "source": [
    "#### Run all subsets of features, to get optimal featuresets."
   ]
  },
  {
   "cell_type": "code",
   "execution_count": 6,
   "metadata": {
    "vscode": {
     "languageId": "r"
    }
   },
   "outputs": [],
   "source": [
    "resultsDf <- NULL\n",
    "for(i in 1:length(combos)){\n",
    "    if(is.null(resultsDf)){\n",
    "        resultsDf <- runOnAllData(c(unlist(combos[[i]]), \"quality\"))\n",
    "    }\n",
    "    else{\n",
    "        resultsDf <- rbind(resultsDf, runOnAllData(c(unlist(combos[[i]]), \"quality\")))\n",
    "    }\n",
    "}"
   ]
  },
  {
   "cell_type": "code",
   "execution_count": 7,
   "metadata": {
    "vscode": {
     "languageId": "r"
    }
   },
   "outputs": [
    {
     "data": {
      "text/html": [
       "<table class=\"dataframe\">\n",
       "<caption>A grouped_df: 6 x 4</caption>\n",
       "<thead>\n",
       "\t<tr><th scope=col>name</th><th scope=col>features</th><th scope=col>rmse</th><th scope=col>r2</th></tr>\n",
       "\t<tr><th scope=col>&lt;chr&gt;</th><th scope=col>&lt;chr&gt;</th><th scope=col>&lt;dbl&gt;</th><th scope=col>&lt;dbl&gt;</th></tr>\n",
       "</thead>\n",
       "<tbody>\n",
       "\t<tr><td>normalClass            </td><td>fixed.acidity_residual.sugar_chlorides_total.sulfur.dioxide_sulphates_alcohol        </td><td>0.6184345</td><td>0.3358167</td></tr>\n",
       "\t<tr><td>normalClass_normalized </td><td>fixed.acidity_residual.sugar_chlorides_total.sulfur.dioxide_sulphates_alcohol        </td><td>0.6254710</td><td>0.3327850</td></tr>\n",
       "\t<tr><td>oversampled            </td><td>fixed.acidity_residual.sugar_chlorides_total.sulfur.dioxide_density_sulphates_alcohol</td><td>0.9901225</td><td>0.6610158</td></tr>\n",
       "\t<tr><td>oversampled_normalized </td><td>fixed.acidity_residual.sugar_chlorides_total.sulfur.dioxide_density_sulphates_alcohol</td><td>0.9975696</td><td>0.6576387</td></tr>\n",
       "\t<tr><td>undersampled           </td><td>chlorides_sulphates_alcohol                                                          </td><td>0.9415901</td><td>0.5233186</td></tr>\n",
       "\t<tr><td>undersampled_normalized</td><td>fixed.acidity_residual.sugar_sulphates_alcohol                                       </td><td>1.2892388</td><td>0.7026790</td></tr>\n",
       "</tbody>\n",
       "</table>\n"
      ],
      "text/latex": [
       "A grouped\\_df: 6 x 4\n",
       "\\begin{tabular}{llll}\n",
       " name & features & rmse & r2\\\\\n",
       " <chr> & <chr> & <dbl> & <dbl>\\\\\n",
       "\\hline\n",
       "\t normalClass             & fixed.acidity\\_residual.sugar\\_chlorides\\_total.sulfur.dioxide\\_sulphates\\_alcohol         & 0.6184345 & 0.3358167\\\\\n",
       "\t normalClass\\_normalized  & fixed.acidity\\_residual.sugar\\_chlorides\\_total.sulfur.dioxide\\_sulphates\\_alcohol         & 0.6254710 & 0.3327850\\\\\n",
       "\t oversampled             & fixed.acidity\\_residual.sugar\\_chlorides\\_total.sulfur.dioxide\\_density\\_sulphates\\_alcohol & 0.9901225 & 0.6610158\\\\\n",
       "\t oversampled\\_normalized  & fixed.acidity\\_residual.sugar\\_chlorides\\_total.sulfur.dioxide\\_density\\_sulphates\\_alcohol & 0.9975696 & 0.6576387\\\\\n",
       "\t undersampled            & chlorides\\_sulphates\\_alcohol                                                           & 0.9415901 & 0.5233186\\\\\n",
       "\t undersampled\\_normalized & fixed.acidity\\_residual.sugar\\_sulphates\\_alcohol                                        & 1.2892388 & 0.7026790\\\\\n",
       "\\end{tabular}\n"
      ],
      "text/markdown": [
       "\n",
       "A grouped_df: 6 x 4\n",
       "\n",
       "| name &lt;chr&gt; | features &lt;chr&gt; | rmse &lt;dbl&gt; | r2 &lt;dbl&gt; |\n",
       "|---|---|---|---|\n",
       "| normalClass             | fixed.acidity_residual.sugar_chlorides_total.sulfur.dioxide_sulphates_alcohol         | 0.6184345 | 0.3358167 |\n",
       "| normalClass_normalized  | fixed.acidity_residual.sugar_chlorides_total.sulfur.dioxide_sulphates_alcohol         | 0.6254710 | 0.3327850 |\n",
       "| oversampled             | fixed.acidity_residual.sugar_chlorides_total.sulfur.dioxide_density_sulphates_alcohol | 0.9901225 | 0.6610158 |\n",
       "| oversampled_normalized  | fixed.acidity_residual.sugar_chlorides_total.sulfur.dioxide_density_sulphates_alcohol | 0.9975696 | 0.6576387 |\n",
       "| undersampled            | chlorides_sulphates_alcohol                                                           | 0.9415901 | 0.5233186 |\n",
       "| undersampled_normalized | fixed.acidity_residual.sugar_sulphates_alcohol                                        | 1.2892388 | 0.7026790 |\n",
       "\n"
      ],
      "text/plain": [
       "  name                   \n",
       "1 normalClass            \n",
       "2 normalClass_normalized \n",
       "3 oversampled            \n",
       "4 oversampled_normalized \n",
       "5 undersampled           \n",
       "6 undersampled_normalized\n",
       "  features                                                                             \n",
       "1 fixed.acidity_residual.sugar_chlorides_total.sulfur.dioxide_sulphates_alcohol        \n",
       "2 fixed.acidity_residual.sugar_chlorides_total.sulfur.dioxide_sulphates_alcohol        \n",
       "3 fixed.acidity_residual.sugar_chlorides_total.sulfur.dioxide_density_sulphates_alcohol\n",
       "4 fixed.acidity_residual.sugar_chlorides_total.sulfur.dioxide_density_sulphates_alcohol\n",
       "5 chlorides_sulphates_alcohol                                                          \n",
       "6 fixed.acidity_residual.sugar_sulphates_alcohol                                       \n",
       "  rmse      r2       \n",
       "1 0.6184345 0.3358167\n",
       "2 0.6254710 0.3327850\n",
       "3 0.9901225 0.6610158\n",
       "4 0.9975696 0.6576387\n",
       "5 0.9415901 0.5233186\n",
       "6 1.2892388 0.7026790"
      ]
     },
     "metadata": {},
     "output_type": "display_data"
    }
   ],
   "source": [
    "# arrange(resultsDf, desc(r2))\n",
    "bestResults <- resultsDf %>% \n",
    "  group_by(name) %>%\n",
    "  top_n(n = 1, wt = r2) %>% \n",
    "  arrange(name, desc(r2))\n",
    "bestResults"
   ]
  },
  {
   "cell_type": "markdown",
   "metadata": {},
   "source": [
    "### ANN Pseudo-Regression"
   ]
  },
  {
   "cell_type": "code",
   "execution_count": 36,
   "metadata": {
    "vscode": {
     "languageId": "r"
    }
   },
   "outputs": [
    {
     "name": "stdout",
     "output_type": "stream",
     "text": [
      "# weights:  14\n",
      "initial  value 39352.085300 \n",
      "final  value 858.777170 \n",
      "converged\n",
      "# weights:  27\n",
      "initial  value 38647.949128 \n",
      "final  value 858.777129 \n",
      "converged\n",
      "# weights:  40\n"
     ]
    },
    {
     "name": "stdout",
     "output_type": "stream",
     "text": [
      "initial  value 61416.200174 \n",
      "final  value 858.777170 \n",
      "converged\n",
      "# weights:  53\n",
      "initial  value 47809.919356 \n",
      "final  value 858.768073 \n",
      "converged\n",
      "# weights:  66\n",
      "initial  value 46031.028885 \n",
      "iter  10 value 986.047808\n",
      "final  value 858.777360 \n",
      "converged\n",
      "# weights:  14\n",
      "initial  value 54502.342685 \n",
      "iter  10 value 638.007959\n",
      "iter  20 value 582.462516\n",
      "iter  30 value 577.025443\n",
      "iter  40 value 572.851265\n",
      "iter  50 value 554.484897\n",
      "iter  60 value 537.064905\n",
      "iter  70 value 535.771941\n",
      "iter  80 value 535.758930\n",
      "final  value 535.755273 \n",
      "converged\n",
      "# weights:  27\n",
      "initial  value 33679.716192 \n",
      "iter  10 value 826.634572\n",
      "iter  20 value 726.475200\n",
      "iter  30 value 555.180565\n",
      "iter  40 value 524.488794\n",
      "iter  50 value 521.240370\n",
      "iter  60 value 520.056078\n",
      "iter  70 value 519.827644\n",
      "iter  80 value 518.811711\n",
      "iter  90 value 517.075610\n",
      "iter 100 value 516.332419\n",
      "final  value 516.332419 \n",
      "stopped after 100 iterations\n",
      "# weights:  40\n",
      "initial  value 33254.101253 \n",
      "iter  10 value 690.408698\n",
      "iter  20 value 559.779967\n",
      "iter  30 value 541.503329\n",
      "iter  40 value 524.277844\n",
      "iter  50 value 518.157159\n",
      "iter  60 value 513.955720\n",
      "iter  70 value 512.929834\n",
      "iter  80 value 511.483844\n",
      "iter  90 value 510.869796\n",
      "iter 100 value 510.492780\n",
      "final  value 510.492780 \n",
      "stopped after 100 iterations\n",
      "# weights:  53\n",
      "initial  value 30381.770471 \n",
      "iter  10 value 775.468373\n",
      "iter  20 value 690.338224\n",
      "iter  30 value 610.740608\n",
      "iter  40 value 541.525016\n",
      "iter  50 value 514.939041\n",
      "iter  60 value 507.158947\n",
      "iter  70 value 501.862386\n",
      "iter  80 value 500.252913\n",
      "iter  90 value 499.435839\n",
      "iter 100 value 498.306564\n",
      "final  value 498.306564 \n",
      "stopped after 100 iterations\n",
      "# weights:  66\n",
      "initial  value 38034.787127 \n",
      "iter  10 value 859.337294\n",
      "iter  20 value 623.877177\n",
      "iter  30 value 529.473588\n",
      "iter  40 value 491.272258\n",
      "iter  50 value 476.806390\n",
      "iter  60 value 467.888759\n",
      "iter  70 value 464.660401\n",
      "iter  80 value 463.476105\n",
      "iter  90 value 462.378812\n",
      "iter 100 value 459.251205\n",
      "final  value 459.251205 \n",
      "stopped after 100 iterations\n",
      "# weights:  14\n",
      "initial  value 121272.547828 \n",
      "iter  10 value 9380.264534\n",
      "iter  20 value 8126.253980\n",
      "iter  30 value 7385.153972\n",
      "iter  40 value 6460.192014\n",
      "iter  50 value 4931.164130\n",
      "iter  60 value 4321.547695\n",
      "iter  70 value 3439.093139\n",
      "iter  80 value 2919.619025\n",
      "iter  90 value 2857.483983\n",
      "iter 100 value 2851.099321\n",
      "final  value 2851.099321 \n",
      "stopped after 100 iterations\n",
      "# weights:  27\n",
      "initial  value 110890.198228 \n",
      "iter  10 value 12635.811577\n",
      "final  value 9564.603427 \n",
      "converged\n",
      "# weights:  40\n",
      "initial  value 148350.389978 \n",
      "iter  10 value 8138.865435\n",
      "iter  20 value 5921.335430\n",
      "iter  30 value 4106.584396\n",
      "iter  40 value 3398.186507\n",
      "iter  50 value 2817.899414\n",
      "iter  60 value 2584.252921\n",
      "iter  70 value 2467.738991\n",
      "iter  80 value 2407.473840\n",
      "iter  90 value 2379.032278\n",
      "iter 100 value 2370.219259\n",
      "final  value 2370.219259 \n",
      "stopped after 100 iterations\n",
      "# weights:  53\n",
      "initial  value 82243.498917 \n",
      "iter  10 value 9829.190075\n",
      "iter  20 value 8732.289983\n",
      "iter  30 value 7131.937274\n",
      "iter  40 value 3727.643729\n",
      "iter  50 value 3027.661362\n",
      "iter  60 value 2986.159849\n",
      "iter  70 value 2973.876759\n",
      "iter  80 value 2894.257019\n",
      "iter  90 value 2852.720976\n",
      "iter 100 value 2850.834619\n",
      "final  value 2850.834619 \n",
      "stopped after 100 iterations\n",
      "# weights:  66\n",
      "initial  value 115916.883574 \n",
      "iter  10 value 8515.297374\n",
      "iter  20 value 5550.368691\n",
      "iter  30 value 4375.629772\n",
      "iter  40 value 3554.396932\n",
      "iter  50 value 3201.969218\n",
      "iter  60 value 2712.179383\n",
      "iter  70 value 2173.867540\n",
      "iter  80 value 1964.524614\n",
      "iter  90 value 1940.863079\n",
      "iter 100 value 1907.492797\n",
      "final  value 1907.492797 \n",
      "stopped after 100 iterations\n",
      "# weights:  14\n",
      "initial  value 126368.938328 \n",
      "iter  10 value 6607.261541\n",
      "iter  20 value 4728.190967\n",
      "iter  30 value 3224.091949\n",
      "iter  40 value 2860.514931\n",
      "iter  50 value 2847.099017\n",
      "final  value 2845.703775 \n",
      "converged\n",
      "# weights:  27\n",
      "initial  value 92120.875929 \n",
      "iter  10 value 4869.780816\n",
      "iter  20 value 4266.377755\n",
      "iter  30 value 3121.860920\n",
      "iter  40 value 2796.812285\n",
      "iter  50 value 2705.697967\n",
      "iter  60 value 2680.232115\n",
      "iter  70 value 2665.003956\n",
      "iter  80 value 2639.249268\n",
      "iter  90 value 2571.112617\n",
      "iter 100 value 2502.818173\n",
      "final  value 2502.818173 \n",
      "stopped after 100 iterations\n",
      "# weights:  40\n",
      "initial  value 129801.336277 \n",
      "iter  10 value 2524.216146\n",
      "iter  20 value 2394.594721\n",
      "iter  30 value 2334.156160\n",
      "iter  40 value 2234.702609\n",
      "iter  50 value 2032.657656\n",
      "iter  60 value 1908.115860\n",
      "iter  70 value 1867.952683\n",
      "iter  80 value 1859.915671\n",
      "iter  90 value 1858.860104\n",
      "iter 100 value 1857.620856\n",
      "final  value 1857.620856 \n",
      "stopped after 100 iterations\n",
      "# weights:  53\n",
      "initial  value 113495.579895 \n",
      "iter  10 value 2438.002074\n",
      "iter  20 value 1970.436600\n",
      "iter  30 value 1896.313625\n",
      "iter  40 value 1772.166438\n",
      "iter  50 value 1733.945255\n",
      "iter  60 value 1697.568236\n",
      "iter  70 value 1681.856538\n",
      "iter  80 value 1660.353571\n",
      "iter  90 value 1608.138823\n",
      "iter 100 value 1573.138948\n",
      "final  value 1573.138948 \n",
      "stopped after 100 iterations\n",
      "# weights:  66\n",
      "initial  value 101734.350634 \n",
      "iter  10 value 2593.932566\n",
      "iter  20 value 2264.104016\n",
      "iter  30 value 2024.886592\n",
      "iter  40 value 1820.198383\n",
      "iter  50 value 1686.609161\n",
      "iter  60 value 1619.558399\n",
      "iter  70 value 1550.704180\n",
      "iter  80 value 1494.542314\n",
      "iter  90 value 1432.110138\n",
      "iter 100 value 1398.432723\n",
      "final  value 1398.432723 \n",
      "stopped after 100 iterations\n",
      "# weights:  14\n",
      "initial  value 1590.707129 \n",
      "final  value 144.312493 \n",
      "converged\n",
      "# weights:  27\n",
      "initial  value 1376.924773 \n",
      "final  value 144.312492 \n",
      "converged\n",
      "# weights:  40\n",
      "initial  value 1750.802644 \n",
      "iter  10 value 138.396102\n",
      "iter  20 value 64.421399\n",
      "iter  30 value 42.973685\n",
      "iter  40 value 40.733584\n",
      "iter  50 value 33.647256\n",
      "iter  60 value 31.885559\n",
      "iter  70 value 30.976529\n",
      "iter  80 value 30.674017\n",
      "iter  90 value 30.230221\n",
      "iter 100 value 29.688488\n",
      "final  value 29.688488 \n",
      "stopped after 100 iterations\n",
      "# weights:  53\n",
      "initial  value 1758.242100 \n",
      "iter  10 value 144.307541\n",
      "iter  20 value 137.283660\n",
      "iter  30 value 55.087390\n",
      "iter  40 value 38.830724\n",
      "iter  50 value 36.546786\n",
      "iter  60 value 36.471162\n",
      "iter  70 value 36.361964\n",
      "iter  80 value 36.344740\n",
      "iter  90 value 36.241570\n",
      "iter 100 value 35.615428\n",
      "final  value 35.615428 \n",
      "stopped after 100 iterations\n",
      "# weights:  66\n",
      "initial  value 1444.780340 \n",
      "iter  10 value 134.991258\n",
      "iter  20 value 107.748926\n",
      "iter  30 value 41.257949\n",
      "iter  40 value 26.431075\n",
      "iter  50 value 23.848923\n",
      "iter  60 value 17.412375\n",
      "iter  70 value 11.234812\n",
      "iter  80 value 8.520304\n",
      "iter  90 value 7.783358\n",
      "iter 100 value 7.543912\n",
      "final  value 7.543912 \n",
      "stopped after 100 iterations\n",
      "# weights:  14\n",
      "initial  value 1698.601820 \n",
      "iter  10 value 32.432659\n",
      "iter  20 value 24.672448\n",
      "iter  30 value 23.652438\n",
      "iter  40 value 23.415231\n",
      "iter  50 value 22.928052\n",
      "iter  60 value 22.890344\n",
      "iter  70 value 22.886842\n",
      "iter  80 value 22.882786\n",
      "iter  90 value 22.872901\n",
      "iter 100 value 22.872866\n",
      "final  value 22.872866 \n",
      "stopped after 100 iterations\n",
      "# weights:  27\n",
      "initial  value 1451.684493 \n",
      "iter  10 value 27.207030\n",
      "iter  20 value 18.671308\n",
      "iter  30 value 10.891623\n",
      "iter  40 value 8.989475\n",
      "iter  50 value 8.732168\n",
      "iter  60 value 8.435881\n",
      "iter  70 value 8.405565\n",
      "iter  80 value 8.359538\n",
      "iter  90 value 8.313147\n",
      "iter 100 value 8.114676\n",
      "final  value 8.114676 \n",
      "stopped after 100 iterations\n",
      "# weights:  40\n",
      "initial  value 1679.195836 \n",
      "iter  10 value 45.845768\n",
      "iter  20 value 25.126640\n",
      "iter  30 value 19.126267\n",
      "iter  40 value 17.699723\n",
      "iter  50 value 17.300139\n",
      "iter  60 value 16.993994\n",
      "iter  70 value 16.904064\n",
      "iter  80 value 16.888182\n",
      "iter  90 value 16.886832\n",
      "iter 100 value 16.886556\n",
      "final  value 16.886556 \n",
      "stopped after 100 iterations\n",
      "# weights:  53\n",
      "initial  value 1610.246996 \n",
      "iter  10 value 34.172488\n",
      "iter  20 value 18.685425\n",
      "iter  30 value 12.137215\n",
      "iter  40 value 7.667691\n",
      "iter  50 value 6.456402\n",
      "iter  60 value 5.203760\n",
      "iter  70 value 4.933494\n",
      "iter  80 value 4.809389\n",
      "iter  90 value 4.408691\n",
      "iter 100 value 4.073246\n",
      "final  value 4.073246 \n",
      "stopped after 100 iterations\n",
      "# weights:  66\n",
      "initial  value 1998.640031 \n",
      "iter  10 value 111.494582\n",
      "iter  20 value 47.426804\n",
      "iter  30 value 33.636235\n",
      "iter  40 value 29.680788\n",
      "iter  50 value 27.616588\n",
      "iter  60 value 15.498960\n",
      "iter  70 value 12.073362\n",
      "iter  80 value 9.017893\n",
      "iter  90 value 8.118072\n",
      "iter 100 value 7.368511\n",
      "final  value 7.368511 \n",
      "stopped after 100 iterations\n"
     ]
    },
    {
     "data": {
      "text/html": [
       "<table class=\"dataframe\">\n",
       "<caption>A data.frame: 30 x 3</caption>\n",
       "<thead>\n",
       "\t<tr><th scope=col>names</th><th scope=col>hiddenLayerSize</th><th scope=col>rmse</th></tr>\n",
       "\t<tr><th scope=col>&lt;chr&gt;</th><th scope=col>&lt;int&gt;</th><th scope=col>&lt;dbl&gt;</th></tr>\n",
       "</thead>\n",
       "<tbody>\n",
       "\t<tr><td>normalClass            </td><td>1</td><td>0.7577175</td></tr>\n",
       "\t<tr><td>normalClass            </td><td>2</td><td>0.7577175</td></tr>\n",
       "\t<tr><td>normalClass            </td><td>3</td><td>0.7577175</td></tr>\n",
       "\t<tr><td>normalClass            </td><td>4</td><td>0.7577277</td></tr>\n",
       "\t<tr><td>normalClass            </td><td>5</td><td>0.7577172</td></tr>\n",
       "\t<tr><td>normalClass_normalized </td><td>1</td><td>0.6304984</td></tr>\n",
       "\t<tr><td>normalClass_normalized </td><td>2</td><td>0.6455907</td></tr>\n",
       "\t<tr><td>normalClass_normalized </td><td>3</td><td>0.6650344</td></tr>\n",
       "\t<tr><td>normalClass_normalized </td><td>4</td><td>0.6666962</td></tr>\n",
       "\t<tr><td>normalClass_normalized </td><td>5</td><td>0.6732521</td></tr>\n",
       "\t<tr><td>oversampled            </td><td>1</td><td>0.9658643</td></tr>\n",
       "\t<tr><td>oversampled            </td><td>2</td><td>1.6961745</td></tr>\n",
       "\t<tr><td>oversampled            </td><td>3</td><td>0.8711443</td></tr>\n",
       "\t<tr><td>oversampled            </td><td>4</td><td>0.9667907</td></tr>\n",
       "\t<tr><td>oversampled            </td><td>5</td><td>0.7824813</td></tr>\n",
       "\t<tr><td>oversampled_normalized </td><td>1</td><td>0.9646431</td></tr>\n",
       "\t<tr><td>oversampled_normalized </td><td>2</td><td>0.8920610</td></tr>\n",
       "\t<tr><td>oversampled_normalized </td><td>3</td><td>0.7998290</td></tr>\n",
       "\t<tr><td>oversampled_normalized </td><td>4</td><td>0.7669835</td></tr>\n",
       "\t<tr><td>oversampled_normalized </td><td>5</td><td>0.6976528</td></tr>\n",
       "\t<tr><td>undersampled           </td><td>1</td><td>1.6532088</td></tr>\n",
       "\t<tr><td>undersampled           </td><td>2</td><td>1.6531993</td></tr>\n",
       "\t<tr><td>undersampled           </td><td>3</td><td>1.2730557</td></tr>\n",
       "\t<tr><td>undersampled           </td><td>4</td><td>1.3288119</td></tr>\n",
       "\t<tr><td>undersampled           </td><td>5</td><td>1.0906280</td></tr>\n",
       "\t<tr><td>undersampled_normalized</td><td>1</td><td>1.3475684</td></tr>\n",
       "\t<tr><td>undersampled_normalized</td><td>2</td><td>5.8640725</td></tr>\n",
       "\t<tr><td>undersampled_normalized</td><td>3</td><td>2.0238213</td></tr>\n",
       "\t<tr><td>undersampled_normalized</td><td>4</td><td>4.0566760</td></tr>\n",
       "\t<tr><td>undersampled_normalized</td><td>5</td><td>2.3352603</td></tr>\n",
       "</tbody>\n",
       "</table>\n"
      ],
      "text/latex": [
       "A data.frame: 30 x 3\n",
       "\\begin{tabular}{lll}\n",
       " names & hiddenLayerSize & rmse\\\\\n",
       " <chr> & <int> & <dbl>\\\\\n",
       "\\hline\n",
       "\t normalClass             & 1 & 0.7577175\\\\\n",
       "\t normalClass             & 2 & 0.7577175\\\\\n",
       "\t normalClass             & 3 & 0.7577175\\\\\n",
       "\t normalClass             & 4 & 0.7577277\\\\\n",
       "\t normalClass             & 5 & 0.7577172\\\\\n",
       "\t normalClass\\_normalized  & 1 & 0.6304984\\\\\n",
       "\t normalClass\\_normalized  & 2 & 0.6455907\\\\\n",
       "\t normalClass\\_normalized  & 3 & 0.6650344\\\\\n",
       "\t normalClass\\_normalized  & 4 & 0.6666962\\\\\n",
       "\t normalClass\\_normalized  & 5 & 0.6732521\\\\\n",
       "\t oversampled             & 1 & 0.9658643\\\\\n",
       "\t oversampled             & 2 & 1.6961745\\\\\n",
       "\t oversampled             & 3 & 0.8711443\\\\\n",
       "\t oversampled             & 4 & 0.9667907\\\\\n",
       "\t oversampled             & 5 & 0.7824813\\\\\n",
       "\t oversampled\\_normalized  & 1 & 0.9646431\\\\\n",
       "\t oversampled\\_normalized  & 2 & 0.8920610\\\\\n",
       "\t oversampled\\_normalized  & 3 & 0.7998290\\\\\n",
       "\t oversampled\\_normalized  & 4 & 0.7669835\\\\\n",
       "\t oversampled\\_normalized  & 5 & 0.6976528\\\\\n",
       "\t undersampled            & 1 & 1.6532088\\\\\n",
       "\t undersampled            & 2 & 1.6531993\\\\\n",
       "\t undersampled            & 3 & 1.2730557\\\\\n",
       "\t undersampled            & 4 & 1.3288119\\\\\n",
       "\t undersampled            & 5 & 1.0906280\\\\\n",
       "\t undersampled\\_normalized & 1 & 1.3475684\\\\\n",
       "\t undersampled\\_normalized & 2 & 5.8640725\\\\\n",
       "\t undersampled\\_normalized & 3 & 2.0238213\\\\\n",
       "\t undersampled\\_normalized & 4 & 4.0566760\\\\\n",
       "\t undersampled\\_normalized & 5 & 2.3352603\\\\\n",
       "\\end{tabular}\n"
      ],
      "text/markdown": [
       "\n",
       "A data.frame: 30 x 3\n",
       "\n",
       "| names &lt;chr&gt; | hiddenLayerSize &lt;int&gt; | rmse &lt;dbl&gt; |\n",
       "|---|---|---|\n",
       "| normalClass             | 1 | 0.7577175 |\n",
       "| normalClass             | 2 | 0.7577175 |\n",
       "| normalClass             | 3 | 0.7577175 |\n",
       "| normalClass             | 4 | 0.7577277 |\n",
       "| normalClass             | 5 | 0.7577172 |\n",
       "| normalClass_normalized  | 1 | 0.6304984 |\n",
       "| normalClass_normalized  | 2 | 0.6455907 |\n",
       "| normalClass_normalized  | 3 | 0.6650344 |\n",
       "| normalClass_normalized  | 4 | 0.6666962 |\n",
       "| normalClass_normalized  | 5 | 0.6732521 |\n",
       "| oversampled             | 1 | 0.9658643 |\n",
       "| oversampled             | 2 | 1.6961745 |\n",
       "| oversampled             | 3 | 0.8711443 |\n",
       "| oversampled             | 4 | 0.9667907 |\n",
       "| oversampled             | 5 | 0.7824813 |\n",
       "| oversampled_normalized  | 1 | 0.9646431 |\n",
       "| oversampled_normalized  | 2 | 0.8920610 |\n",
       "| oversampled_normalized  | 3 | 0.7998290 |\n",
       "| oversampled_normalized  | 4 | 0.7669835 |\n",
       "| oversampled_normalized  | 5 | 0.6976528 |\n",
       "| undersampled            | 1 | 1.6532088 |\n",
       "| undersampled            | 2 | 1.6531993 |\n",
       "| undersampled            | 3 | 1.2730557 |\n",
       "| undersampled            | 4 | 1.3288119 |\n",
       "| undersampled            | 5 | 1.0906280 |\n",
       "| undersampled_normalized | 1 | 1.3475684 |\n",
       "| undersampled_normalized | 2 | 5.8640725 |\n",
       "| undersampled_normalized | 3 | 2.0238213 |\n",
       "| undersampled_normalized | 4 | 4.0566760 |\n",
       "| undersampled_normalized | 5 | 2.3352603 |\n",
       "\n"
      ],
      "text/plain": [
       "   names                   hiddenLayerSize rmse     \n",
       "1  normalClass             1               0.7577175\n",
       "2  normalClass             2               0.7577175\n",
       "3  normalClass             3               0.7577175\n",
       "4  normalClass             4               0.7577277\n",
       "5  normalClass             5               0.7577172\n",
       "6  normalClass_normalized  1               0.6304984\n",
       "7  normalClass_normalized  2               0.6455907\n",
       "8  normalClass_normalized  3               0.6650344\n",
       "9  normalClass_normalized  4               0.6666962\n",
       "10 normalClass_normalized  5               0.6732521\n",
       "11 oversampled             1               0.9658643\n",
       "12 oversampled             2               1.6961745\n",
       "13 oversampled             3               0.8711443\n",
       "14 oversampled             4               0.9667907\n",
       "15 oversampled             5               0.7824813\n",
       "16 oversampled_normalized  1               0.9646431\n",
       "17 oversampled_normalized  2               0.8920610\n",
       "18 oversampled_normalized  3               0.7998290\n",
       "19 oversampled_normalized  4               0.7669835\n",
       "20 oversampled_normalized  5               0.6976528\n",
       "21 undersampled            1               1.6532088\n",
       "22 undersampled            2               1.6531993\n",
       "23 undersampled            3               1.2730557\n",
       "24 undersampled            4               1.3288119\n",
       "25 undersampled            5               1.0906280\n",
       "26 undersampled_normalized 1               1.3475684\n",
       "27 undersampled_normalized 2               5.8640725\n",
       "28 undersampled_normalized 3               2.0238213\n",
       "29 undersampled_normalized 4               4.0566760\n",
       "30 undersampled_normalized 5               2.3352603"
      ]
     },
     "metadata": {},
     "output_type": "display_data"
    }
   ],
   "source": [
    "fileNames <- c()\n",
    "hl_sizes <- c()\n",
    "rmses <- c()\n",
    "for(i in 1:length(train_dfs)){\n",
    "    for(hl_size in 1:5){\n",
    "        model <- nnet(quality ~ ., data = train_dfs[[i]], linout = T, skip = F, size = c(hl_size))\n",
    "        preds <- predict(model, newdata = test_dfs[[i]], type = \"r\")\n",
    "        rmse <- RMSE(preds, test_dfs[[i]]$quality)\n",
    "\n",
    "        fileNames <- append(fileNames, files[i])\n",
    "        hl_sizes <- append(hl_sizes, hl_size)\n",
    "        rmses <- append(rmses, rmse)\n",
    "    }\n",
    "}\n",
    "NN_results <- data.frame(names = fileNames, hiddenLayerSize = hl_sizes, rmse = rmses)\n",
    "NN_results"
   ]
  },
  {
   "cell_type": "code",
   "execution_count": 31,
   "metadata": {
    "vscode": {
     "languageId": "r"
    }
   },
   "outputs": [
    {
     "data": {
      "image/png": "[encoded data removed]",
      "text/plain": [
       "plot without title"
      ]
     },
     "metadata": {
      "image/png": {
       "height": 420,
       "width": 420
      }
     },
     "output_type": "display_data"
    }
   ],
   "source": [
    "plot(preds, test_dfs[[1]]$quality)"
   ]
  }
 ],
 "metadata": {
  "kernelspec": {
   "display_name": "R",
   "language": "R",
   "name": "ir"
  },
  "language_info": {
   "codemirror_mode": "r",
   "file_extension": ".r",
   "mimetype": "text/x-r-source",
   "name": "R",
   "pygments_lexer": "r",
   "version": "4.1.1"
  }
 },
 "nbformat": 4,
 "nbformat_minor": 2
}
