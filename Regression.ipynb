{
 "cells": [
  {
   "cell_type": "markdown",
   "metadata": {},
   "source": [
    "### Import"
   ]
  },
  {
   "cell_type": "code",
   "execution_count": 55,
   "metadata": {
    "vscode": {
     "languageId": "r"
    }
   },
   "outputs": [],
   "source": [
    "import pandas as pd\n",
    "from tqdm import tqdm\n",
    "from itertools import combinations\n",
    "from sklearn.metrics import mean_squared_error, r2_score"
   ]
  },
  {
   "cell_type": "code",
   "execution_count": 56,
   "metadata": {
    "vscode": {
     "languageId": "r"
    }
   },
   "outputs": [
    {
     "data": {
      "text/plain": [
       "['oversampled_normalized',\n",
       " 'undersampled_normalized',\n",
       " 'undersampled',\n",
       " 'oversampled',\n",
       " 'normalClass',\n",
       " 'normalClass_normalized']"
      ]
     },
     "execution_count": 56,
     "metadata": {},
     "output_type": "execute_result"
    }
   ],
   "source": [
    "from read import read_datasets, get_subsets\n",
    "datasets = read_datasets()\n",
    "list(datasets.keys())"
   ]
  },
  {
   "cell_type": "markdown",
   "metadata": {},
   "source": [
    "### Linear Regression"
   ]
  },
  {
   "cell_type": "markdown",
   "metadata": {},
   "source": [
    "#### Define functions for running linear regression tests"
   ]
  },
  {
   "cell_type": "code",
   "execution_count": 57,
   "metadata": {
    "vscode": {
     "languageId": "r"
    }
   },
   "outputs": [],
   "source": [
    "from sklearn.linear_model import LinearRegression\n",
    "def run_linearRegression(dataset_name, subset = []):\n",
    "    assert dataset_name in datasets\n",
    "\n",
    "    X_train, X_test, y_train, y_test = get_subsets(datasets[dataset_name])\n",
    "    \n",
    "    if subset:\n",
    "        assert any(c in X_train.columns for c in subset)\n",
    "        X_train = X_train[[c for c in subset if c in X_train.columns]]\n",
    "        X_test = X_test[[c for c in subset if c in X_test.columns]]\n",
    "    \n",
    "    model = LinearRegression()\n",
    "    model.fit(X_train, y_train)\n",
    "\n",
    "    coefficients = pd.DataFrame({\n",
    "        \"variable\":[\"INTERCEPT\"] + list(X_train.columns),\n",
    "        \"coefficient\":[model.intercept_] + list(model.coef_)\n",
    "    })\n",
    "\n",
    "\n",
    "    y_pred = model.predict(X_test)\n",
    "\n",
    "    mse = mean_squared_error(y_test, y_pred)\n",
    "    r2 = r2_score(y_test, y_pred)\n",
    "\n",
    "    return coefficients, y_test, y_pred, mse, r2"
   ]
  },
  {
   "cell_type": "code",
   "execution_count": 66,
   "metadata": {
    "vscode": {
     "languageId": "r"
    }
   },
   "outputs": [],
   "source": [
    "def test_diff_datasets(subset = []):\n",
    "    results = {\n",
    "        \"dataName\":[name for name in datasets],\n",
    "        \"featureSubset\":[subset for name in datasets],\n",
    "        \"mse\":[],\n",
    "        \"r2\":[]\n",
    "    }\n",
    "    for name in datasets:\n",
    "        _, _, _, mse, r2 = run_linearRegression(name, subset)\n",
    "        results[\"mse\"].append(mse)\n",
    "        results[\"r2\"].append(r2)\n",
    "    \n",
    "    return pd.DataFrame(results).sort_values(by = \"r2\").reset_index(drop = True)"
   ]
  },
  {
   "cell_type": "code",
   "execution_count": 69,
   "metadata": {
    "vscode": {
     "languageId": "r"
    }
   },
   "outputs": [],
   "source": [
    "def getCombos(dataName, drop = []):\n",
    "    X_train, _, _, _ = get_subsets(datasets[dataName])\n",
    "\n",
    "    cols = list(X_train.columns)\n",
    "    if drop:\n",
    "        cols = [c for c in cols if c not in drop]\n",
    "    assert cols\n",
    "\n",
    "    combos = []\n",
    "    for i in range(1, len(cols) + 1):\n",
    "        combos.extend(combinations(cols, i))\n",
    "    \n",
    "    return combos"
   ]
  },
  {
   "cell_type": "markdown",
   "metadata": {},
   "source": [
    "#### Test All Feature Subsets"
   ]
  },
  {
   "cell_type": "code",
   "execution_count": 63,
   "metadata": {
    "vscode": {
     "languageId": "r"
    }
   },
   "outputs": [
    {
     "name": "stderr",
     "output_type": "stream",
     "text": [
      "Subset Testing: 100%|██████████| 2047/2047 [02:19<00:00, 14.71it/s]\n"
     ]
    }
   ],
   "source": [
    "dfOut = pd.DataFrame\n",
    "for combo in tqdm(getCombos(\"normalClass\"), desc = \"Subset Testing\"):\n",
    "    result = test_diff_datasets(combo)\n",
    "    if dfOut.empty:\n",
    "        dfOut = result\n",
    "    else:\n",
    "        dfOut = pd.concat([dfOut, result])"
   ]
  },
  {
   "cell_type": "code",
   "execution_count": 64,
   "metadata": {
    "vscode": {
     "languageId": "r"
    }
   },
   "outputs": [
    {
     "data": {
      "text/html": [
       "<div>\n",
       "<style scoped>\n",
       "    .dataframe tbody tr th:only-of-type {\n",
       "        vertical-align: middle;\n",
       "    }\n",
       "\n",
       "    .dataframe tbody tr th {\n",
       "        vertical-align: top;\n",
       "    }\n",
       "\n",
       "    .dataframe thead th {\n",
       "        text-align: right;\n",
       "    }\n",
       "</style>\n",
       "<table border=\"1\" class=\"dataframe\">\n",
       "  <thead>\n",
       "    <tr style=\"text-align: right;\">\n",
       "      <th></th>\n",
       "      <th>dataName</th>\n",
       "      <th>featureSubset</th>\n",
       "      <th>mse</th>\n",
       "      <th>r2</th>\n",
       "    </tr>\n",
       "  </thead>\n",
       "  <tbody>\n",
       "    <tr>\n",
       "      <th>0</th>\n",
       "      <td>normalClass</td>\n",
       "      <td>(fixed acidity, volatile acidity, residual sug...</td>\n",
       "      <td>0.375114</td>\n",
       "      <td>0.340628</td>\n",
       "    </tr>\n",
       "    <tr>\n",
       "      <th>1</th>\n",
       "      <td>normalClass_normalized</td>\n",
       "      <td>(fixed acidity, volatile acidity, residual sug...</td>\n",
       "      <td>0.379095</td>\n",
       "      <td>0.333631</td>\n",
       "    </tr>\n",
       "    <tr>\n",
       "      <th>2</th>\n",
       "      <td>oversampled</td>\n",
       "      <td>(fixed acidity, volatile acidity, citric acid,...</td>\n",
       "      <td>0.948022</td>\n",
       "      <td>0.670136</td>\n",
       "    </tr>\n",
       "    <tr>\n",
       "      <th>3</th>\n",
       "      <td>oversampled_normalized</td>\n",
       "      <td>(fixed acidity, volatile acidity, citric acid,...</td>\n",
       "      <td>0.955661</td>\n",
       "      <td>0.667478</td>\n",
       "    </tr>\n",
       "    <tr>\n",
       "      <th>4</th>\n",
       "      <td>undersampled</td>\n",
       "      <td>(fixed acidity, volatile acidity, residual sug...</td>\n",
       "      <td>0.386782</td>\n",
       "      <td>0.791398</td>\n",
       "    </tr>\n",
       "    <tr>\n",
       "      <th>5</th>\n",
       "      <td>undersampled_normalized</td>\n",
       "      <td>(volatile acidity, residual sugar, free sulfur...</td>\n",
       "      <td>1.310850</td>\n",
       "      <td>0.293025</td>\n",
       "    </tr>\n",
       "  </tbody>\n",
       "</table>\n",
       "</div>"
      ],
      "text/plain": [
       "                  dataName                                      featureSubset  \\\n",
       "0              normalClass  (fixed acidity, volatile acidity, residual sug...   \n",
       "1   normalClass_normalized  (fixed acidity, volatile acidity, residual sug...   \n",
       "2              oversampled  (fixed acidity, volatile acidity, citric acid,...   \n",
       "3   oversampled_normalized  (fixed acidity, volatile acidity, citric acid,...   \n",
       "4             undersampled  (fixed acidity, volatile acidity, residual sug...   \n",
       "5  undersampled_normalized  (volatile acidity, residual sugar, free sulfur...   \n",
       "\n",
       "        mse        r2  \n",
       "0  0.375114  0.340628  \n",
       "1  0.379095  0.333631  \n",
       "2  0.948022  0.670136  \n",
       "3  0.955661  0.667478  \n",
       "4  0.386782  0.791398  \n",
       "5  1.310850  0.293025  "
      ]
     },
     "execution_count": 64,
     "metadata": {},
     "output_type": "execute_result"
    }
   ],
   "source": [
    "bestPerDataName = dfOut.groupby('dataName', as_index=False).apply(lambda x: x.nlargest(1, columns='r2')).reset_index(drop = True)\n",
    "bestPerDataName"
   ]
  },
  {
   "cell_type": "markdown",
   "metadata": {},
   "source": [
    "#### Manually Remove Collinearity"
   ]
  },
  {
   "cell_type": "code",
   "execution_count": 72,
   "metadata": {
    "vscode": {
     "languageId": "r"
    }
   },
   "outputs": [
    {
     "name": "stderr",
     "output_type": "stream",
     "text": [
      "Subset Testing: 100%|██████████| 511/511 [00:35<00:00, 14.60it/s]\n"
     ]
    }
   ],
   "source": [
    "dropCols = [\"free sulfure dioxide\", \"ph\", \"sulfur\", \"citric acid\", \"volatile acidity\"]\n",
    "\n",
    "dfOut_subset = pd.DataFrame\n",
    "for combo in tqdm(getCombos(\"normalClass\", dropCols), desc = \"Subset Testing\"):\n",
    "    result = test_diff_datasets(combo)\n",
    "    if dfOut_subset.empty:\n",
    "        dfOut_subset = result\n",
    "    else:\n",
    "        dfOut_subset = pd.concat([dfOut_subset, result])"
   ]
  },
  {
   "cell_type": "code",
   "execution_count": 73,
   "metadata": {
    "vscode": {
     "languageId": "r"
    }
   },
   "outputs": [
    {
     "data": {
      "text/html": [
       "<div>\n",
       "<style scoped>\n",
       "    .dataframe tbody tr th:only-of-type {\n",
       "        vertical-align: middle;\n",
       "    }\n",
       "\n",
       "    .dataframe tbody tr th {\n",
       "        vertical-align: top;\n",
       "    }\n",
       "\n",
       "    .dataframe thead th {\n",
       "        text-align: right;\n",
       "    }\n",
       "</style>\n",
       "<table border=\"1\" class=\"dataframe\">\n",
       "  <thead>\n",
       "    <tr style=\"text-align: right;\">\n",
       "      <th></th>\n",
       "      <th>dataName</th>\n",
       "      <th>featureSubset</th>\n",
       "      <th>mse</th>\n",
       "      <th>r2</th>\n",
       "    </tr>\n",
       "  </thead>\n",
       "  <tbody>\n",
       "    <tr>\n",
       "      <th>0</th>\n",
       "      <td>normalClass</td>\n",
       "      <td>(fixed acidity, residual sugar, chlorides, tot...</td>\n",
       "      <td>0.400304</td>\n",
       "      <td>0.296351</td>\n",
       "    </tr>\n",
       "    <tr>\n",
       "      <th>1</th>\n",
       "      <td>normalClass_normalized</td>\n",
       "      <td>(fixed acidity, residual sugar, chlorides, tot...</td>\n",
       "      <td>0.407050</td>\n",
       "      <td>0.284492</td>\n",
       "    </tr>\n",
       "    <tr>\n",
       "      <th>2</th>\n",
       "      <td>oversampled</td>\n",
       "      <td>(fixed acidity, residual sugar, chlorides, fre...</td>\n",
       "      <td>1.095498</td>\n",
       "      <td>0.618822</td>\n",
       "    </tr>\n",
       "    <tr>\n",
       "      <th>3</th>\n",
       "      <td>oversampled_normalized</td>\n",
       "      <td>(fixed acidity, residual sugar, chlorides, den...</td>\n",
       "      <td>1.106794</td>\n",
       "      <td>0.614892</td>\n",
       "    </tr>\n",
       "    <tr>\n",
       "      <th>4</th>\n",
       "      <td>undersampled</td>\n",
       "      <td>(fixed acidity, chlorides, free sulfur dioxide...</td>\n",
       "      <td>1.013596</td>\n",
       "      <td>0.453342</td>\n",
       "    </tr>\n",
       "    <tr>\n",
       "      <th>5</th>\n",
       "      <td>undersampled_normalized</td>\n",
       "      <td>(fixed acidity, chlorides, free sulfur dioxide...</td>\n",
       "      <td>1.621071</td>\n",
       "      <td>0.125715</td>\n",
       "    </tr>\n",
       "  </tbody>\n",
       "</table>\n",
       "</div>"
      ],
      "text/plain": [
       "                  dataName                                      featureSubset  \\\n",
       "0              normalClass  (fixed acidity, residual sugar, chlorides, tot...   \n",
       "1   normalClass_normalized  (fixed acidity, residual sugar, chlorides, tot...   \n",
       "2              oversampled  (fixed acidity, residual sugar, chlorides, fre...   \n",
       "3   oversampled_normalized  (fixed acidity, residual sugar, chlorides, den...   \n",
       "4             undersampled  (fixed acidity, chlorides, free sulfur dioxide...   \n",
       "5  undersampled_normalized  (fixed acidity, chlorides, free sulfur dioxide...   \n",
       "\n",
       "        mse        r2  \n",
       "0  0.400304  0.296351  \n",
       "1  0.407050  0.284492  \n",
       "2  1.095498  0.618822  \n",
       "3  1.106794  0.614892  \n",
       "4  1.013596  0.453342  \n",
       "5  1.621071  0.125715  "
      ]
     },
     "execution_count": 73,
     "metadata": {},
     "output_type": "execute_result"
    }
   ],
   "source": [
    "bestPerDataName_subset = dfOut_subset.groupby('dataName', as_index=False).apply(lambda x: x.nlargest(1, columns='r2')).reset_index(drop = True)\n",
    "bestPerDataName_subset"
   ]
  },
  {
   "cell_type": "markdown",
   "metadata": {},
   "source": [
    "### Read in R Data"
   ]
  },
  {
   "cell_type": "code",
   "execution_count": 2,
   "metadata": {
    "vscode": {
     "languageId": "r"
    }
   },
   "outputs": [],
   "source": [
    "library(ISLR)\n",
    "library(gam)\n",
    "library(splines)\n",
    "library(tidyverse)\n",
    "library(caret)"
   ]
  },
  {
   "cell_type": "code",
   "execution_count": 28,
   "metadata": {
    "vscode": {
     "languageId": "r"
    }
   },
   "outputs": [],
   "source": [
    "normalClass <- read.csv(\"data/normalClass.csv\", header = T)\n",
    "oversamp <- read.csv(\"data/oversampled.csv\", header = T)\n",
    "undersamp <- read.csv(\"data/undersampled.csv\", header = T)\n",
    "\n",
    "normalClass_norm <- read.csv(\"data/normalClass_normalized.csv\", header = T)\n",
    "oversamp_norm <- read.csv(\"data/oversampled_normalized.csv\", header = T)\n",
    "undersamp_norm <- read.csv(\"data/undersampled_normalized.csv\", header = T)"
   ]
  },
  {
   "cell_type": "code",
   "execution_count": 30,
   "metadata": {
    "vscode": {
     "languageId": "r"
    }
   },
   "outputs": [
    {
     "data": {
      "text/html": [
       "<style>\n",
       ".list-inline {list-style: none; margin:0; padding: 0}\n",
       ".list-inline>li {display: inline-block}\n",
       ".list-inline>li:not(:last-child)::after {content: \"\\00b7\"; padding: 0 .5ex}\n",
       "</style>\n",
       "<ol class=list-inline><li>'fixed.acidity'</li><li>'volatile.acidity'</li><li>'citric.acid'</li><li>'residual.sugar'</li><li>'chlorides'</li><li>'free.sulfur.dioxide'</li><li>'total.sulfur.dioxide'</li><li>'density'</li><li>'pH'</li><li>'sulphates'</li><li>'alcohol'</li><li>'quality'</li><li>'train_test'</li></ol>\n"
      ],
      "text/latex": [
       "\\begin{enumerate*}\n",
       "\\item 'fixed.acidity'\n",
       "\\item 'volatile.acidity'\n",
       "\\item 'citric.acid'\n",
       "\\item 'residual.sugar'\n",
       "\\item 'chlorides'\n",
       "\\item 'free.sulfur.dioxide'\n",
       "\\item 'total.sulfur.dioxide'\n",
       "\\item 'density'\n",
       "\\item 'pH'\n",
       "\\item 'sulphates'\n",
       "\\item 'alcohol'\n",
       "\\item 'quality'\n",
       "\\item 'train\\_test'\n",
       "\\end{enumerate*}\n"
      ],
      "text/markdown": [
       "1. 'fixed.acidity'\n",
       "2. 'volatile.acidity'\n",
       "3. 'citric.acid'\n",
       "4. 'residual.sugar'\n",
       "5. 'chlorides'\n",
       "6. 'free.sulfur.dioxide'\n",
       "7. 'total.sulfur.dioxide'\n",
       "8. 'density'\n",
       "9. 'pH'\n",
       "10. 'sulphates'\n",
       "11. 'alcohol'\n",
       "12. 'quality'\n",
       "13. 'train_test'\n",
       "\n",
       "\n"
      ],
      "text/plain": [
       " [1] \"fixed.acidity\"        \"volatile.acidity\"     \"citric.acid\"         \n",
       " [4] \"residual.sugar\"       \"chlorides\"            \"free.sulfur.dioxide\" \n",
       " [7] \"total.sulfur.dioxide\" \"density\"              \"pH\"                  \n",
       "[10] \"sulphates\"            \"alcohol\"              \"quality\"             \n",
       "[13] \"train_test\"          "
      ]
     },
     "metadata": {},
     "output_type": "display_data"
    }
   ],
   "source": [
    "names(normalClass$train)"
   ]
  },
  {
   "cell_type": "code",
   "execution_count": 39,
   "metadata": {
    "vscode": {
     "languageId": "r"
    }
   },
   "outputs": [],
   "source": [
    "getSplit <- function(df, train_or_test){\n",
    "    retDf <- subset(df, train_test == train_or_test)\n",
    "    retDf$train_test <- NULL\n",
    "    return (retDf)\n",
    "}\n",
    "normalClass.train <- getSplit(normalClass, \"train\")\n",
    "normalClass.test <- getSplit(normalClass, \"test\")\n",
    "oversamp.train <- getSplit(oversamp, \"train\")\n",
    "oversamp.test <- getSplit(oversamp, \"test\")\n",
    "undersamp.train <- getSplit(undersamp, \"train\")\n",
    "undersamp.test <- getSplit(undersamp, \"test\")\n",
    "\n",
    "normalClass_norm.train <- getSplit(normalClass_norm, \"train\")\n",
    "normalClass_norm.test <- getSplit(normalClass_norm, \"test\")\n",
    "oversamp_norm.train <- getSplit(oversamp_norm, \"train\")\n",
    "oversamp_norm.test <- getSplit(oversamp_norm, \"test\")\n",
    "undersamp_norm.train <- getSplit(undersamp_norm, \"train\")\n",
    "undersamp_norm.test <- getSplit(undersamp_norm, \"test\")"
   ]
  },
  {
   "cell_type": "markdown",
   "metadata": {},
   "source": [
    "### Non-Linear Models"
   ]
  },
  {
   "cell_type": "code",
   "execution_count": 42,
   "metadata": {
    "vscode": {
     "languageId": "r"
    }
   },
   "outputs": [
    {
     "name": "stdout",
     "output_type": "stream",
     "text": [
      "       RMSE        R2\n",
      "1 0.6189281 0.3356125\n"
     ]
    }
   ],
   "source": [
    "normalClass.train.gam <- gam(quality ~ ., data = normalClass.train)\n",
    "normalClass.preds <- normalClass.train.gam %>% predict(normalClass.test)\n",
    "\n",
    "print(data.frame(\n",
    "  RMSE = RMSE(normalClass.preds, normalClass.test$quality),\n",
    "  R2 = R2(normalClass.preds, normalClass.test$quality)\n",
    "))"
   ]
  },
  {
   "cell_type": "markdown",
   "metadata": {},
   "source": [
    "### ANN Pseudo-Regression"
   ]
  },
  {
   "cell_type": "code",
   "execution_count": null,
   "metadata": {
    "vscode": {
     "languageId": "r"
    }
   },
   "outputs": [],
   "source": []
  }
 ],
 "metadata": {
  "kernelspec": {
   "display_name": "R",
   "language": "R",
   "name": "ir"
  },
  "language_info": {
   "codemirror_mode": "r",
   "file_extension": ".r",
   "mimetype": "text/x-r-source",
   "name": "R",
   "pygments_lexer": "r",
   "version": "4.1.1"
  }
 },
 "nbformat": 4,
 "nbformat_minor": 2
}
